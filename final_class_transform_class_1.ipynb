{
 "cells": [
  {
   "cell_type": "code",
   "execution_count": null,
   "metadata": {
    "scrolled": true
   },
   "outputs": [],
   "source": [
    "from libcpab.pytorch import cpab\n",
    "import matplotlib.pyplot as plt\n",
    "import numpy as np\n",
    "import pandas as pd\n",
    "import torch\n",
    "import random\n",
    "import warnings\n",
    "warnings.filterwarnings('ignore')"
   ]
  },
  {
   "cell_type": "code",
   "execution_count": null,
   "metadata": {
    "scrolled": true
   },
   "outputs": [],
   "source": [
    "df = pd.read_csv('class_1.txt')\n",
    "file_list = df['file_name']"
   ]
  },
  {
   "cell_type": "code",
   "execution_count": null,
   "metadata": {
    "scrolled": true
   },
   "outputs": [],
   "source": [
    "df.head(5)"
   ]
  },
  {
   "cell_type": "code",
   "execution_count": null,
   "metadata": {},
   "outputs": [],
   "source": [
    "for i in file_list[0:5]:\n",
    "        img = plt.imread('class_1/'+ i) / 255\n",
    "        #print(np.shape(img))\n",
    "        data = np.tile(np.expand_dims(img, 0), [1,1,1,1])\n",
    "        #print(np.shape(data))# create batch of data\n",
    "\n",
    "        # Convert to torch tensor and torch format [n_batch, n_channels, width, height]\n",
    "        data = torch.Tensor(data).permute(0,3,1,2)\n",
    "        #print(np.shape(data)) # data \n",
    "        data = np.reshape(data,(1,1,28,28))\n",
    "        #print(np.shape(data)) # data \n",
    "        \n",
    "        img2 = plt.imread('class_1/'+ random.choice(file_list)) / 255\n",
    "        data2 = np.tile(np.expand_dims(img2, 0), [1,1,1,1])\n",
    "        #print(np.shape(data2))# create batch of data\n",
    "\n",
    "        # Convert to torch tensor and torch format [n_batch, n_channels, width, height]\n",
    "        data2 = torch.Tensor(data2).permute(0,3,1,2)\n",
    "        #print(np.shape(data2)) # data \n",
    "        data2 = np.reshape(data2,(1,1,28,28))\n",
    "        #print(np.shape(data2)) # data \n",
    "        \n",
    "\n",
    "        \n",
    "        T2 = cpab(tess_size=[3,3], device='cpu')\n",
    "        theta_est = T2.identity(1, epsilon=1e-4)\n",
    "        theta_est.requires_grad = True\n",
    "        #print(np.shape(theta_est))\n",
    "\n",
    "        # Pytorch optimizer\n",
    "        optimizer = torch.optim.Adam([theta_est], lr=0.1)\n",
    "\n",
    "        # Optimization loop\n",
    "        maxiter = 100\n",
    "        for i in range(maxiter):\n",
    "            trans_est = T2.transform_data(data, theta_est, outsize=(28, 28))\n",
    "            loss = (data2.to(trans_est.device) - trans_est).pow(2).mean()\n",
    "            optimizer.zero_grad()\n",
    "            loss.backward()\n",
    "            optimizer.step()\n",
    "            \n",
    "\n",
    "        # Show the results\n",
    "        plt.subplots(1,3, figsize=(10, 15))\n",
    "        plt.subplot(1,3,1)\n",
    "        #print(np.shape(data))\n",
    "        #print('the transformed shape: {}'.format(np.shape(trans_est)))\n",
    "        data = np.reshape(data,(1,28,28))\n",
    "        plt.imshow(data.permute(0,1,2).numpy()[0])\n",
    "        plt.axis('off')\n",
    "        plt.title('Source')\n",
    "        plt.subplot(1,3,2)\n",
    "        data2 = np.reshape(data2,(1,28,28))\n",
    "        plt.imshow(data2.permute(0,1,2).cpu().numpy()[0])\n",
    "        plt.axis('off')\n",
    "        plt.title('Target')\n",
    "        plt.subplot(1,3,3)\n",
    "        trans_est = torch.reshape(trans_est,(1,28,28))\n",
    "        plt.imshow(trans_est.permute(0,1,2).cpu().detach().numpy()[0])\n",
    "        plt.axis('off')\n",
    "        plt.title('Estimate')\n",
    "        plt.show()"
   ]
  },
  {
   "cell_type": "code",
   "execution_count": null,
   "metadata": {
    "scrolled": true
   },
   "outputs": [],
   "source": [
    "image_list = file_list[0:10]\n",
    "N = len(image_list)\n",
    "thetas = np.zeros((N*(N-1),34))\n",
    "counter = 0\n",
    "for m in range(len(image_list)):\n",
    "    for n in range(len(image_list)):\n",
    "        if m != n:\n",
    "            data = np.tile(np.expand_dims(plt.imread('class_1/'+ image_list[m]) / 255, 0), [1,1,1,1]) # read an image\n",
    "            # Convert to torch tensor and torch format [n_batch, n_channels, width, height]\n",
    "            data = torch.Tensor(data).permute(0,3,1,2)\n",
    "            data = np.reshape(data,(1,1,28,28))\n",
    "            \n",
    "            # read 2nd image\n",
    "            data2 = np.tile(np.expand_dims(plt.imread('class_1/'+ image_list[n]) / 255, 0), [1,1,1,1]) \n",
    "            data2 = torch.Tensor(data2).permute(0,3,1,2)\n",
    "            data2 = np.reshape(data2,(1,1,28,28))\n",
    "            \n",
    "            # Now, create pytorch procedure that enables us to estimate the transformation\n",
    "            # we have just used for transforming the data\n",
    "            T2 = cpab(tess_size=[3,3], device='cpu')\n",
    "            theta_est = T2.identity(1, epsilon=1e-4)\n",
    "            theta_est.requires_grad = True\n",
    "\n",
    "            # Pytorch optimizer\n",
    "            optimizer = torch.optim.Adam([theta_est], lr=0.1)\n",
    "            # Optimization loop\n",
    "            maxiter = 100\n",
    "            for i in range(maxiter):\n",
    "                trans_est = T2.transform_data(data, theta_est, outsize=(28, 28))\n",
    "                loss = (data2.to(trans_est.device) - trans_est).pow(2).mean()\n",
    "                optimizer.zero_grad()\n",
    "                loss.backward()\n",
    "                optimizer.step()\n",
    "                #print('Iter', i, ', Loss', np.round(loss.item(), 4), ', ||theta_true - theta_est||: ',\n",
    "                      #np.linalg.norm((data2-trans_est.cpu().detach()).numpy().round(4)))\n",
    "            thetas[counter,:] = torch.Tensor.cpu(theta_est).detach().numpy()[:]\n",
    "            counter += 1 "
   ]
  },
  {
   "cell_type": "code",
   "execution_count": null,
   "metadata": {},
   "outputs": [],
   "source": [
    "mean_thetas = thetas.mean(0)\n",
    "cov_thetas = np.cov(thetas, rowvar=False)\n",
    "multi_gausian = np.random.multivariate_normal(mean_thetas, cov_thetas, 34).T\n",
    "multi_gausian = torch.tensor(multi_gausian.astype(np.float32))\n",
    "np.shape(multi_gausian)"
   ]
  },
  {
   "cell_type": "code",
   "execution_count": null,
   "metadata": {},
   "outputs": [],
   "source": [
    "true_theta = multi_gausian[:1]"
   ]
  },
  {
   "cell_type": "code",
   "execution_count": null,
   "metadata": {},
   "outputs": [],
   "source": [
    "np.shape(true_theta)\n"
   ]
  },
  {
   "cell_type": "code",
   "execution_count": null,
   "metadata": {},
   "outputs": [],
   "source": [
    "# generating new images\n",
    "\n",
    "for i in file_list[0:10]:\n",
    "        data = plt.imread('class_1/'+ i) / 255\n",
    "        #print(np.shape(img))\n",
    "        data = np.tile(np.expand_dims(data, 0), [1,1,1,1])\n",
    "        # Convert to torch tensor and torch format [n_batch, n_channels, width, height]\n",
    "        data = torch.Tensor(data).permute(0,3,1,2)\n",
    "        data = np.reshape(data,(1,1,28,28))\n",
    "        \n",
    "        T2 = cpab(tess_size=[3,3], device='cpu')\n",
    "        \n",
    "        trans_est = T2.transform_data(data,true_theta , outsize=(28, 28))\n",
    "        \n",
    "        # Show the results\n",
    "        plt.subplots(1,2, figsize=(10, 15))\n",
    "        plt.subplot(1,2,1)\n",
    "        \n",
    "        data = np.reshape(data,(1,28,28))\n",
    "        plt.imshow(data.permute(0,1,2).numpy()[0])\n",
    "        plt.axis('off')\n",
    "        plt.title('Source')\n",
    "        \n",
    "        plt.subplot(1,2,2)\n",
    "        trans_est = torch.reshape(trans_est,(1,28,28))\n",
    "        plt.imshow(trans_est.permute(0,1,2).cpu().detach().numpy()[0])\n",
    "        plt.axis('off')\n",
    "        plt.title('New data')\n",
    "        plt.show()"
   ]
  },
  {
   "cell_type": "code",
   "execution_count": null,
   "metadata": {},
   "outputs": [],
   "source": []
  }
 ],
 "metadata": {
  "hide_input": false,
  "kernelspec": {
   "display_name": "Python 3",
   "language": "python",
   "name": "python3"
  },
  "language_info": {
   "codemirror_mode": {
    "name": "ipython",
    "version": 3
   },
   "file_extension": ".py",
   "mimetype": "text/x-python",
   "name": "python",
   "nbconvert_exporter": "python",
   "pygments_lexer": "ipython3",
   "version": "3.7.6"
  }
 },
 "nbformat": 4,
 "nbformat_minor": 4
}
